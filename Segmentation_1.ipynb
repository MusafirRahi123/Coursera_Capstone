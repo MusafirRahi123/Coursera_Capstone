{
    "nbformat_minor": 1, 
    "cells": [
        {
            "execution_count": 1, 
            "cell_type": "code", 
            "metadata": {}, 
            "outputs": [
                {
                    "output_type": "stream", 
                    "name": "stdout", 
                    "text": "Hello\n"
                }
            ], 
            "source": "print(\"Hello\")"
        }, 
        {
            "execution_count": 69, 
            "cell_type": "code", 
            "metadata": {}, 
            "outputs": [
                {
                    "output_type": "stream", 
                    "name": "stdout", 
                    "text": "    PostalCode                                           Borough  \\\n0          M3A                                        North York   \n1          M4A                                        North York   \n2          M5A                                  Downtown Toronto   \n3          M6A                                        North York   \n4          M7A                                      Queen's Park   \n5          M9A                                         Etobicoke   \n6          M1B                                       Scarborough   \n7          M3B                                        North York   \n8          M4B                                         East York   \n9          M5B                                  Downtown Toronto   \n10         M6B                                        North York   \n11         M9B                                         Etobicoke   \n12         M1C                                       Scarborough   \n13         M3C                                        North York   \n14         M4C                                         East York   \n15         M5C                                  Downtown Toronto   \n16         M6C                                              York   \n17         M9C                                         Etobicoke   \n18         M1E                                       Scarborough   \n19         M4E                                      East Toronto   \n20         M5E                                  Downtown Toronto   \n21         M6E                                              York   \n22         M1G                                       Scarborough   \n23         M4G                                         East York   \n24         M5G                                  Downtown Toronto   \n25         M6G                                  Downtown Toronto   \n26         M1H                                       Scarborough   \n27         M2H                                        North York   \n28         M3H                                        North York   \n29         M4H                                         East York   \n..         ...                                               ...   \n73         M4R                                   Central Toronto   \n74         M5R                                   Central Toronto   \n75         M6R                                      West Toronto   \n76         M7R  MississaugaCanada Post Gateway Processing Centre   \n77         M9R                                         Etobicoke   \n78         M1S                                       Scarborough   \n79         M4S                                   Central Toronto   \n80         M5S                                  Downtown Toronto   \n81         M6S                                      West Toronto   \n82         M1T                                       Scarborough   \n83         M4T                                   Central Toronto   \n84         M5T                                  Downtown Toronto   \n85         M1V                                       Scarborough   \n86         M4V                                   Central Toronto   \n87         M5V                                  Downtown Toronto   \n88         M8V                                         Etobicoke   \n89         M9V                                         Etobicoke   \n90         M1W                                       Scarborough   \n91         M4W                                  Downtown Toronto   \n92         M5W    Downtown TorontoStn A PO Boxes25 The Esplanade   \n93         M8W                                         Etobicoke   \n94         M9W                                EtobicokeNorthwest   \n95         M1X                                       Scarborough   \n96         M4X                                  Downtown Toronto   \n97         M5X                                  Downtown Toronto   \n98         M8X                                         Etobicoke   \n99         M4Y                                  Downtown Toronto   \n100        M7Y                                      East Toronto   \n101        M8Y                                         Etobicoke   \n102        M8Z                                         Etobicoke   \n\n                                         Neighbourhood  \n0                                            Parkwoods  \n1                                     Victoria Village  \n2                           Regent Park , Harbourfront  \n3                    Lawrence Manor , Lawrence Heights  \n4                        Ontario Provincial Government  \n5                                     Islington Avenue  \n6                                      Malvern , Rouge  \n7                                       Don MillsNorth  \n8                     Parkview Hill , Woodbine Gardens  \n9                             Garden District, Ryerson  \n10                                           Glencairn  \n11   West Deane Park , Princess Gardens , Martin Gr...  \n12            Rouge Hill , Port Union , Highland Creek  \n13                                      Don MillsSouth  \n14                                    Woodbine Heights  \n15                                      St. James Town  \n16                                  Humewood-Cedarvale  \n17   Eringate , Bloordale Gardens , Old Burnhamthor...  \n18                 Guildwood , Morningside , West Hill  \n19                                         The Beaches  \n20                                         Berczy Park  \n21                                 Caledonia-Fairbanks  \n22                                              Woburn  \n23                                             Leaside  \n24                                  Central Bay Street  \n25                                            Christie  \n26                                           Cedarbrae  \n27                                   Hillcrest Village  \n28   Bathurst Manor , Wilson Heights , Downsview North  \n29                                    Thorncliffe Park  \n..                                                 ...  \n73                                  North Toronto West  \n74               The Annex , North Midtown , Yorkville  \n75                             Parkdale , Roncesvalles  \n76                                      Enclave of L4W  \n77   Kingsview Village , St. Phillips , Martin Grov...  \n78                                          Agincourt   \n79                                          Davisville  \n80                     University of Toronto , Harbord  \n81                                 Runnymede , Swansea  \n82           Clarks Corners , Tam O'Shanter , Sullivan  \n83                        Moore Park , Summerhill East  \n84         Kensington Market , Chinatown , Grange Park  \n85   Milliken , Agincourt North , Steeles East , L'...  \n86   Summerhill West , Rathnelly , South Hill , For...  \n87   CN Tower , King and Spadina , Railway Lands , ...  \n88      New Toronto , Mimico South , Humber Bay Shores  \n89   South Steeles , Silverstone , Humbergate , Jam...  \n90                      Steeles West , L'Amoreaux West  \n91                                            Rosedale  \n92                                      Enclave of M5E  \n93                             Alderwood , Long Branch  \n94   Clairville , Humberwood , Woodbine Downs , Wes...  \n95                                         Upper Rouge  \n96                        St. James Town , Cabbagetown  \n97             First Canadian Place , Underground city  \n98     The Kingsway , Montgomery Road , Old Mill North  \n99                                Church and Wellesley  \n100  Business reply mail Processing Centre969 Easte...  \n101  Old Mill South , King's Mill Park , Sunnylea ,...  \n102  Mimico NW , The Queensway West , South of Bloo...  \n\n[103 rows x 3 columns]\n(103, 3)\n"
                }
            ], 
            "source": "from bs4 import BeautifulSoup\nimport requests\nimport pandas as pd\nsource = requests.get('https://en.wikipedia.org/wiki/List_of_postal_codes_of_Canada:_M').text\nSoup = BeautifulSoup(source,'lxml')\nTable_Find = Soup.find('table')\n\nTable_Find = Soup.find('tbody')\nI_Text = None\nA_Text = None\nList_Postal_Code = []\nfor code in Table_Find.find_all('td'):\n    try:\n        I_Text = code.i.text\n    except Exception as e:\n        I_Text = None\n\n    if(I_Text != \"Not assigned\"):\n        List_Postal_Code.append(code.b.text)\n\nList_Borough = []\nTemp_List = []\nList_Neighbourhood= []\n\nfor item in List_Postal_Code:\n    Temp_List = []\n    for code in Table_Find.find_all('td'):\n        if(item == code.b.text):\n            \n            try:\n                if(item == \"M7Y\"):\n                    \n                    Str= code.span.text.split(')')\n                    Temp_List.append(Str[0][:12])\n                    Temp_List.append(Str[0][12:])\n                    List_Borough.append(Temp_List[0])\n                    List_Neighbourhood.append(Temp_List[1])\n                elif(item == \"M7A\"):\n                    Temp_Item = code.span.text\n                    \n                    Temp_Item_NB =(code.find_all('b'))\n                    List_Borough.append(Temp_Item.replace('\\n',''))\n                    Temp_Item_N = Temp_Item_NB[1].text\n                    List_Neighbourhood.append(Temp_Item_N)\n                else:\n                    \n                    Temp_List = (code.span.text.split('('))\n                    if(item == \"M7A\"):\n                        print(code.find_all('b'))\n                    List_Borough.append(Temp_List[0])\n                    Temp_List[1] = Temp_List[1].replace(')','')\n                    Temp_List[1] = Temp_List[1].replace('/',',')\n                    List_Neighbourhood.append(Temp_List[1])\n                \n\n            except Exception as e:\n                A_Text = None\n\n\n\nS_Data = pd.DataFrame({'Borough': List_Borough,'PostalCode' : List_Postal_Code,'Neighbourhood':List_Neighbourhood})\nS_Data = S_Data[['PostalCode','Borough','Neighbourhood']]\n\nprint(S_Data)\nprint(S_Data.shape)\n"
        }, 
        {
            "execution_count": null, 
            "cell_type": "code", 
            "metadata": {}, 
            "outputs": [], 
            "source": ""
        }, 
        {
            "execution_count": null, 
            "cell_type": "code", 
            "metadata": {}, 
            "outputs": [], 
            "source": ""
        }
    ], 
    "metadata": {
        "kernelspec": {
            "display_name": "Python 3.5", 
            "name": "python3", 
            "language": "python"
        }, 
        "language_info": {
            "mimetype": "text/x-python", 
            "nbconvert_exporter": "python", 
            "version": "3.5.5", 
            "name": "python", 
            "file_extension": ".py", 
            "pygments_lexer": "ipython3", 
            "codemirror_mode": {
                "version": 3, 
                "name": "ipython"
            }
        }
    }, 
    "nbformat": 4
}